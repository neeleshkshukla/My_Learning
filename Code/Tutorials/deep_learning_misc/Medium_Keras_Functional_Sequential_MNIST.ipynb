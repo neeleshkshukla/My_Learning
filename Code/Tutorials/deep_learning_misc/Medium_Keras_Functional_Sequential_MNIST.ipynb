{
 "cells": [
  {
   "cell_type": "markdown",
   "id": "5ffcdc7c",
   "metadata": {},
   "source": [
    "## Keras Functional and Sequential Model with MNIST dataset\n",
    "\n",
    "I will be using Fashion MNIST dataset which consists of 60000 train data and 10000 test data, in which each of those images have the size of 28 by 28 pixels (similar to MNIST Digit dataset). Next, two exact same classifier model will be created and trained. The first one is done using sequential style while the second one is using functional style. Lastly I will explain a bit why it is important to get familiar with functional style, especially if you’re interested to learn more about Neural Network-based models. So that’s it, let’s start doing this little project.\n",
    "\n",
    "https://becominghuman.ai/sequential-vs-functional-model-in-keras-20684f766057"
   ]
  },
  {
   "cell_type": "code",
   "execution_count": 1,
   "id": "024b74c6",
   "metadata": {},
   "outputs": [],
   "source": [
    "import numpy as np\n",
    "import matplotlib.pyplot as plt\n",
    "\n",
    "from tensorflow.keras.utils import to_categorical\n",
    "from keras.datasets import fashion_mnist\n",
    "from keras.models import Sequential, Model\n",
    "from keras.layers import Dense, Input"
   ]
  },
  {
   "cell_type": "code",
   "execution_count": 2,
   "id": "b3793264",
   "metadata": {},
   "outputs": [],
   "source": [
    "# Loading MNIST dataset\n",
    "(X_train, y_train), (X_test, y_test) = fashion_mnist.load_data()"
   ]
  },
  {
   "cell_type": "code",
   "execution_count": 3,
   "id": "293c3013",
   "metadata": {},
   "outputs": [
    {
     "data": {
      "image/png": "[encoded data removed]",
      "text/plain": [
       "<Figure size 1152x288 with 7 Axes>"
      ]
     },
     "metadata": {
      "needs_background": "light"
     },
     "output_type": "display_data"
    }
   ],
   "source": [
    "fig, axes = plt.subplots(ncols=7, sharex=False, sharey=True, figsize=(16,4))\n",
    "\n",
    "for i in range(7):\n",
    "    axes[i].set_title(y_train[i])\n",
    "    axes[i].imshow(X_train[i])\n",
    "    axes[i].get_xaxis().set_visible(False)\n",
    "    axes[i].get_yaxis().set_visible(False)"
   ]
  },
  {
   "cell_type": "code",
   "execution_count": 4,
   "id": "cd7e6842",
   "metadata": {},
   "outputs": [
    {
     "data": {
      "text/plain": [
       "(60000, 28, 28)"
      ]
     },
     "execution_count": 4,
     "metadata": {},
     "output_type": "execute_result"
    }
   ],
   "source": [
    "X_train.shape"
   ]
  },
  {
   "cell_type": "code",
   "execution_count": 5,
   "id": "87fe9ae4",
   "metadata": {},
   "outputs": [
    {
     "data": {
      "text/plain": [
       "(60000, 784)"
      ]
     },
     "execution_count": 5,
     "metadata": {},
     "output_type": "execute_result"
    }
   ],
   "source": [
    "# Reshape X_train from (60000, 28, 28) to (60000, 784)\n",
    "X_train = X_train.reshape(X_train.shape[0], X_train.shape[1] * X_train.shape[2])\n",
    "X_train.shape"
   ]
  },
  {
   "cell_type": "code",
   "execution_count": 6,
   "id": "797a4693",
   "metadata": {},
   "outputs": [
    {
     "data": {
      "text/plain": [
       "(10000, 28, 28)"
      ]
     },
     "execution_count": 6,
     "metadata": {},
     "output_type": "execute_result"
    }
   ],
   "source": [
    "X_test.shape"
   ]
  },
  {
   "cell_type": "code",
   "execution_count": 7,
   "id": "9b76d065",
   "metadata": {},
   "outputs": [
    {
     "data": {
      "text/plain": [
       "(10000, 784)"
      ]
     },
     "execution_count": 7,
     "metadata": {},
     "output_type": "execute_result"
    }
   ],
   "source": [
    "# Reshape X_train from (10000, 28, 28) to (10000, 784)\n",
    "X_test = X_test.reshape(X_test.shape[0], X_test.shape[1] * X_test.shape[2])\n",
    "X_test.shape"
   ]
  },
  {
   "cell_type": "code",
   "execution_count": 13,
   "id": "475f5605",
   "metadata": {},
   "outputs": [],
   "source": [
    "from sklearn.preprocessing import MinMaxScaler\n",
    "min_max_scaler = MinMaxScaler()\n",
    "X_train = min_max_scaler.fit_transform(X_train)\n",
    "X_test = min_max_scaler.transform(X_test)"
   ]
  },
  {
   "cell_type": "code",
   "execution_count": 8,
   "id": "80279bfe",
   "metadata": {},
   "outputs": [],
   "source": [
    "# Convert label to one-hot representation\n",
    "y_train = to_categorical(y_train)"
   ]
  },
  {
   "cell_type": "code",
   "execution_count": 9,
   "id": "51f5be40",
   "metadata": {},
   "outputs": [],
   "source": [
    "y_test = to_categorical(y_test)"
   ]
  },
  {
   "cell_type": "markdown",
   "id": "38dc6bbd",
   "metadata": {},
   "source": [
    "### Sequential Model"
   ]
  },
  {
   "cell_type": "code",
   "execution_count": 14,
   "id": "23cb9d2b",
   "metadata": {},
   "outputs": [
    {
     "name": "stdout",
     "output_type": "stream",
     "text": [
      "Epoch 1/10\n",
      "1875/1875 [==============================] - 2s 841us/step - loss: 1.0188 - accuracy: 0.7183\n",
      "Epoch 2/10\n",
      "1875/1875 [==============================] - 2s 853us/step - loss: 0.4909 - accuracy: 0.8326\n",
      "Epoch 3/10\n",
      "1875/1875 [==============================] - 2s 857us/step - loss: 0.4225 - accuracy: 0.8508\n",
      "Epoch 4/10\n",
      "1875/1875 [==============================] - 2s 857us/step - loss: 0.3937 - accuracy: 0.8596\n",
      "Epoch 5/10\n",
      "1875/1875 [==============================] - 2s 879us/step - loss: 0.3770 - accuracy: 0.8649\n",
      "Epoch 6/10\n",
      "1875/1875 [==============================] - 2s 870us/step - loss: 0.3629 - accuracy: 0.8709\n",
      "Epoch 7/10\n",
      "1875/1875 [==============================] - 2s 900us/step - loss: 0.3524 - accuracy: 0.8731\n",
      "Epoch 8/10\n",
      "1875/1875 [==============================] - 2s 882us/step - loss: 0.3436 - accuracy: 0.8759\n",
      "Epoch 9/10\n",
      "1875/1875 [==============================] - 2s 872us/step - loss: 0.3369 - accuracy: 0.8785\n",
      "Epoch 10/10\n",
      "1875/1875 [==============================] - 2s 879us/step - loss: 0.3303 - accuracy: 0.8810\n"
     ]
    },
    {
     "data": {
      "text/plain": [
       "<keras.callbacks.History at 0x165aad8b0>"
      ]
     },
     "execution_count": 14,
     "metadata": {},
     "output_type": "execute_result"
    }
   ],
   "source": [
    "sequential_model = Sequential()\n",
    "sequential_model.add(Dense(20, activation='sigmoid', input_shape=(X_train.shape[1], )))\n",
    "sequential_model.add(Dense(20, activation='sigmoid'))\n",
    "sequential_model.add(Dense(10, activation='softmax'))\n",
    "sequential_model.compile(loss='categorical_crossentropy', optimizer='adam', metrics=['accuracy'])\n",
    "sequential_model.fit(X_train, y_train, epochs=10)"
   ]
  },
  {
   "cell_type": "code",
   "execution_count": 15,
   "id": "cd7275fa",
   "metadata": {},
   "outputs": [
    {
     "name": "stdout",
     "output_type": "stream",
     "text": [
      "1875/1875 [==============================] - 1s 652us/step - loss: 0.3193 - accuracy: 0.8846\n"
     ]
    },
    {
     "data": {
      "text/plain": [
       "[0.3192557096481323, 0.8845999836921692]"
      ]
     },
     "execution_count": 15,
     "metadata": {},
     "output_type": "execute_result"
    }
   ],
   "source": [
    "sequential_model.evaluate(X_train, y_train)"
   ]
  },
  {
   "cell_type": "code",
   "execution_count": 16,
   "id": "ae103940",
   "metadata": {},
   "outputs": [
    {
     "name": "stdout",
     "output_type": "stream",
     "text": [
      "313/313 [==============================] - 0s 942us/step - loss: 0.3865 - accuracy: 0.8611\n"
     ]
    },
    {
     "data": {
      "text/plain": [
       "[0.38645800948143005, 0.8611000180244446]"
      ]
     },
     "execution_count": 16,
     "metadata": {},
     "output_type": "execute_result"
    }
   ],
   "source": [
    "sequential_model.evaluate(X_test, y_test)"
   ]
  },
  {
   "cell_type": "code",
   "execution_count": 17,
   "id": "c0267da3",
   "metadata": {},
   "outputs": [
    {
     "name": "stdout",
     "output_type": "stream",
     "text": [
      "Model: \"sequential_2\"\n",
      "_________________________________________________________________\n",
      " Layer (type)                Output Shape              Param #   \n",
      "=================================================================\n",
      " dense_6 (Dense)             (None, 20)                15700     \n",
      "                                                                 \n",
      " dense_7 (Dense)             (None, 20)                420       \n",
      "                                                                 \n",
      " dense_8 (Dense)             (None, 10)                210       \n",
      "                                                                 \n",
      "=================================================================\n",
      "Total params: 16,330\n",
      "Trainable params: 16,330\n",
      "Non-trainable params: 0\n",
      "_________________________________________________________________\n"
     ]
    }
   ],
   "source": [
    "sequential_model.summary()"
   ]
  },
  {
   "cell_type": "markdown",
   "id": "c65e9691",
   "metadata": {},
   "source": [
    "### Functional Model"
   ]
  },
  {
   "cell_type": "code",
   "execution_count": 18,
   "id": "a8a6ad67",
   "metadata": {},
   "outputs": [
    {
     "name": "stdout",
     "output_type": "stream",
     "text": [
      "Epoch 1/10\n",
      "1875/1875 [==============================] - 2s 858us/step - loss: 1.1002 - accuracy: 0.6555\n",
      "Epoch 2/10\n",
      "1875/1875 [==============================] - 2s 831us/step - loss: 0.5186 - accuracy: 0.8263\n",
      "Epoch 3/10\n",
      "1875/1875 [==============================] - 2s 837us/step - loss: 0.4292 - accuracy: 0.8499\n",
      "Epoch 4/10\n",
      "1875/1875 [==============================] - 2s 840us/step - loss: 0.3964 - accuracy: 0.8600\n",
      "Epoch 5/10\n",
      "1875/1875 [==============================] - 2s 937us/step - loss: 0.3770 - accuracy: 0.8668\n",
      "Epoch 6/10\n",
      "1875/1875 [==============================] - 2s 879us/step - loss: 0.3630 - accuracy: 0.8700\n",
      "Epoch 7/10\n",
      "1875/1875 [==============================] - 2s 877us/step - loss: 0.3511 - accuracy: 0.8757\n",
      "Epoch 8/10\n",
      "1875/1875 [==============================] - 2s 891us/step - loss: 0.3419 - accuracy: 0.8780\n",
      "Epoch 9/10\n",
      "1875/1875 [==============================] - 2s 885us/step - loss: 0.3348 - accuracy: 0.8809\n",
      "Epoch 10/10\n",
      "1875/1875 [==============================] - 2s 893us/step - loss: 0.3276 - accuracy: 0.8831\n"
     ]
    },
    {
     "data": {
      "text/plain": [
       "<keras.callbacks.History at 0x165d98a00>"
      ]
     },
     "execution_count": 18,
     "metadata": {},
     "output_type": "execute_result"
    }
   ],
   "source": [
    "input1 = Input(shape=(X_train.shape[1],))\n",
    "hidden1 = Dense(20, activation='sigmoid')(input1)\n",
    "hidden2 = Dense(20, activation='sigmoid')(hidden1)\n",
    "output = Dense(10, activation='softmax')(hidden2)\n",
    "functional_model = Model(inputs=input1, outputs=output)\n",
    "functional_model.compile(loss='categorical_crossentropy', optimizer='adam', metrics=['accuracy'])\n",
    "functional_model.fit(X_train, y_train, epochs=10)"
   ]
  },
  {
   "cell_type": "code",
   "execution_count": 19,
   "id": "7b941cfc",
   "metadata": {},
   "outputs": [
    {
     "name": "stdout",
     "output_type": "stream",
     "text": [
      "Model: \"model\"\n",
      "_________________________________________________________________\n",
      " Layer (type)                Output Shape              Param #   \n",
      "=================================================================\n",
      " input_1 (InputLayer)        [(None, 784)]             0         \n",
      "                                                                 \n",
      " dense_9 (Dense)             (None, 20)                15700     \n",
      "                                                                 \n",
      " dense_10 (Dense)            (None, 20)                420       \n",
      "                                                                 \n",
      " dense_11 (Dense)            (None, 10)                210       \n",
      "                                                                 \n",
      "=================================================================\n",
      "Total params: 16,330\n",
      "Trainable params: 16,330\n",
      "Non-trainable params: 0\n",
      "_________________________________________________________________\n"
     ]
    }
   ],
   "source": [
    "functional_model.summary()"
   ]
  },
  {
   "cell_type": "code",
   "execution_count": 20,
   "id": "a749e59a",
   "metadata": {},
   "outputs": [
    {
     "name": "stdout",
     "output_type": "stream",
     "text": [
      "1875/1875 [==============================] - 1s 614us/step - loss: 0.3159 - accuracy: 0.8872\n"
     ]
    },
    {
     "data": {
      "text/plain": [
       "[0.3159465193748474, 0.887233316898346]"
      ]
     },
     "execution_count": 20,
     "metadata": {},
     "output_type": "execute_result"
    }
   ],
   "source": [
    "functional_model.evaluate(X_train, y_train)"
   ]
  },
  {
   "cell_type": "code",
   "execution_count": 21,
   "id": "a8934b75",
   "metadata": {},
   "outputs": [
    {
     "name": "stdout",
     "output_type": "stream",
     "text": [
      "313/313 [==============================] - 0s 1ms/step - loss: 0.3876 - accuracy: 0.8617\n"
     ]
    },
    {
     "data": {
      "text/plain": [
       "[0.38759368658065796, 0.8616999983787537]"
      ]
     },
     "execution_count": 21,
     "metadata": {},
     "output_type": "execute_result"
    }
   ],
   "source": [
    "functional_model.evaluate(X_test, y_test)"
   ]
  }
 ],
 "metadata": {
  "kernelspec": {
   "display_name": "Python 3 (ipykernel)",
   "language": "python",
   "name": "python3"
  },
  "language_info": {
   "codemirror_mode": {
    "name": "ipython",
    "version": 3
   },
   "file_extension": ".py",
   "mimetype": "text/x-python",
   "name": "python",
   "nbconvert_exporter": "python",
   "pygments_lexer": "ipython3",
   "version": "3.9.8"
  }
 },
 "nbformat": 4,
 "nbformat_minor": 5
}
