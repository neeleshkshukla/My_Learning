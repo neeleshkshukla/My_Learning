{
 "cells": [
  {
   "cell_type": "code",
   "execution_count": 1,
   "id": "2c1fb79a",
   "metadata": {},
   "outputs": [],
   "source": [
    "from keras.datasets import fashion_mnist\n",
    "from keras.models import Sequential, Model\n",
    "from keras.layers import Dense, Input"
   ]
  },
  {
   "cell_type": "code",
   "execution_count": 34,
   "id": "763659c4",
   "metadata": {},
   "outputs": [],
   "source": [
    "(X_train, y_train), (X_test, y_test) = fashion_mnist.load_data()"
   ]
  },
  {
   "cell_type": "code",
   "execution_count": 4,
   "id": "edff17ec",
   "metadata": {},
   "outputs": [],
   "source": [
    "from keras.models import Sequential\n",
    "from keras.layers import Dense, Activation, Flatten\n",
    "from keras import metrics"
   ]
  },
  {
   "cell_type": "markdown",
   "id": "10e31f9d",
   "metadata": {},
   "source": [
    "### Scaling vs Non Sclaing"
   ]
  },
  {
   "cell_type": "code",
   "execution_count": 36,
   "id": "a0ca9b10",
   "metadata": {},
   "outputs": [
    {
     "name": "stdout",
     "output_type": "stream",
     "text": [
      "Epoch 1/10\n",
      "1875/1875 [==============================] - 2s 899us/step - loss: 2.2557 - accuracy: 0.2201\n",
      "Epoch 2/10\n",
      "1875/1875 [==============================] - 2s 899us/step - loss: 1.7003 - accuracy: 0.3541\n",
      "Epoch 3/10\n",
      "1875/1875 [==============================] - 2s 908us/step - loss: 1.2066 - accuracy: 0.5040\n",
      "Epoch 4/10\n",
      "1875/1875 [==============================] - 2s 899us/step - loss: 1.0943 - accuracy: 0.5286\n",
      "Epoch 5/10\n",
      "1875/1875 [==============================] - 2s 901us/step - loss: 1.0474 - accuracy: 0.5457\n",
      "Epoch 6/10\n",
      "1875/1875 [==============================] - 2s 884us/step - loss: 1.0209 - accuracy: 0.5546\n",
      "Epoch 7/10\n",
      "1875/1875 [==============================] - 2s 885us/step - loss: 0.9938 - accuracy: 0.5668\n",
      "Epoch 8/10\n",
      "1875/1875 [==============================] - 2s 846us/step - loss: 0.9922 - accuracy: 0.5680\n",
      "Epoch 9/10\n",
      "1875/1875 [==============================] - 2s 909us/step - loss: 0.9766 - accuracy: 0.5746\n",
      "Epoch 10/10\n",
      "1875/1875 [==============================] - 2s 863us/step - loss: 0.9747 - accuracy: 0.5737\n"
     ]
    },
    {
     "data": {
      "text/plain": [
       "<keras.callbacks.History at 0x1666ee880>"
      ]
     },
     "execution_count": 36,
     "metadata": {},
     "output_type": "execute_result"
    }
   ],
   "source": [
    "model_before_scaling = Sequential()\n",
    "model_before_scaling.add(Flatten(input_shape=[28, 28]))\n",
    "model_before_scaling.add(Dense(20, activation='relu'))\n",
    "model_before_scaling.add(Dense(10, activation='softmax'))\n",
    "model_before_scaling.compile(loss = 'sparse_categorical_crossentropy',\n",
    "             optimizer = 'adam',\n",
    "             metrics = ['accuracy'])\n",
    "model_before_scaling.fit(X_train, y_train, epochs=10)"
   ]
  },
  {
   "cell_type": "code",
   "execution_count": 37,
   "id": "b6edc7e4",
   "metadata": {},
   "outputs": [],
   "source": [
    "X_train = X_train/255\n",
    "X_test = X_test/255"
   ]
  },
  {
   "cell_type": "code",
   "execution_count": 38,
   "id": "f1ff38be",
   "metadata": {},
   "outputs": [
    {
     "name": "stdout",
     "output_type": "stream",
     "text": [
      "Epoch 1/10\n",
      "1875/1875 [==============================] - 2s 843us/step - loss: 0.5777 - accuracy: 0.8005\n",
      "Epoch 2/10\n",
      "1875/1875 [==============================] - 2s 863us/step - loss: 0.4314 - accuracy: 0.8497\n",
      "Epoch 3/10\n",
      "1875/1875 [==============================] - 2s 899us/step - loss: 0.4014 - accuracy: 0.8587\n",
      "Epoch 4/10\n",
      "1875/1875 [==============================] - 2s 842us/step - loss: 0.3795 - accuracy: 0.8654\n",
      "Epoch 5/10\n",
      "1875/1875 [==============================] - 2s 844us/step - loss: 0.3647 - accuracy: 0.8695\n",
      "Epoch 6/10\n",
      "1875/1875 [==============================] - 2s 862us/step - loss: 0.3549 - accuracy: 0.8732\n",
      "Epoch 7/10\n",
      "1875/1875 [==============================] - 2s 869us/step - loss: 0.3461 - accuracy: 0.8756\n",
      "Epoch 8/10\n",
      "1875/1875 [==============================] - 2s 900us/step - loss: 0.3400 - accuracy: 0.8774\n",
      "Epoch 9/10\n",
      "1875/1875 [==============================] - 2s 869us/step - loss: 0.3335 - accuracy: 0.8810\n",
      "Epoch 10/10\n",
      "1875/1875 [==============================] - 2s 874us/step - loss: 0.3283 - accuracy: 0.8813\n"
     ]
    },
    {
     "data": {
      "text/plain": [
       "<keras.callbacks.History at 0x1667d74f0>"
      ]
     },
     "execution_count": 38,
     "metadata": {},
     "output_type": "execute_result"
    }
   ],
   "source": [
    "model_after_scaling = Sequential()\n",
    "model_after_scaling.add(Flatten(input_shape=[28, 28]))\n",
    "model_after_scaling.add(Dense(20, activation='relu'))\n",
    "model_after_scaling.add(Dense(10, activation='softmax'))\n",
    "model_after_scaling.compile(loss = 'sparse_categorical_crossentropy',\n",
    "             optimizer = 'adam',\n",
    "             metrics = ['accuracy'])\n",
    "model_after_scaling.fit(X_train, y_train, epochs=10)"
   ]
  },
  {
   "cell_type": "code",
   "execution_count": 39,
   "id": "af4a4095",
   "metadata": {},
   "outputs": [],
   "source": [
    "(X_train, y_train), (X_test, y_test) = fashion_mnist.load_data()"
   ]
  },
  {
   "cell_type": "code",
   "execution_count": 41,
   "id": "73fd909a",
   "metadata": {},
   "outputs": [
    {
     "data": {
      "text/plain": [
       "(60000, 784)"
      ]
     },
     "execution_count": 41,
     "metadata": {},
     "output_type": "execute_result"
    }
   ],
   "source": [
    "# Reshape X_train from (60000, 28, 28) to (60000, 784)\n",
    "X_train = X_train.reshape(X_train.shape[0], X_train.shape[1] * X_train.shape[2])\n",
    "X_train.shape"
   ]
  },
  {
   "cell_type": "code",
   "execution_count": 42,
   "id": "6ba1a0a5",
   "metadata": {},
   "outputs": [],
   "source": [
    "from sklearn.preprocessing import MinMaxScaler\n",
    "min_max_scaler = MinMaxScaler()\n",
    "X_train = min_max_scaler.fit_transform(X_train)"
   ]
  },
  {
   "cell_type": "code",
   "execution_count": 44,
   "id": "c4a82e69",
   "metadata": {},
   "outputs": [
    {
     "name": "stdout",
     "output_type": "stream",
     "text": [
      "Epoch 1/10\n",
      "1875/1875 [==============================] - 2s 818us/step - loss: 0.5925 - accuracy: 0.7947\n",
      "Epoch 2/10\n",
      "1875/1875 [==============================] - 2s 856us/step - loss: 0.4344 - accuracy: 0.8483\n",
      "Epoch 3/10\n",
      "1875/1875 [==============================] - 2s 832us/step - loss: 0.4062 - accuracy: 0.8585\n",
      "Epoch 4/10\n",
      "1875/1875 [==============================] - 2s 853us/step - loss: 0.3890 - accuracy: 0.8629\n",
      "Epoch 5/10\n",
      "1875/1875 [==============================] - 2s 853us/step - loss: 0.3795 - accuracy: 0.8669\n",
      "Epoch 6/10\n",
      "1875/1875 [==============================] - 2s 847us/step - loss: 0.3699 - accuracy: 0.8695\n",
      "Epoch 7/10\n",
      "1875/1875 [==============================] - 2s 807us/step - loss: 0.3634 - accuracy: 0.8712\n",
      "Epoch 8/10\n",
      "1875/1875 [==============================] - 2s 923us/step - loss: 0.3562 - accuracy: 0.8742\n",
      "Epoch 9/10\n",
      "1875/1875 [==============================] - 2s 822us/step - loss: 0.3517 - accuracy: 0.8752\n",
      "Epoch 10/10\n",
      "1875/1875 [==============================] - 2s 825us/step - loss: 0.3490 - accuracy: 0.8760\n"
     ]
    },
    {
     "data": {
      "text/plain": [
       "<keras.callbacks.History at 0x1683d0640>"
      ]
     },
     "execution_count": 44,
     "metadata": {},
     "output_type": "execute_result"
    }
   ],
   "source": [
    "model_after_minmaxscaling = Sequential()\n",
    "model_after_minmaxscaling.add(Dense(20, activation='relu', input_shape=(X_train.shape[1], )))\n",
    "model_after_minmaxscaling.add(Dense(10, activation='softmax'))\n",
    "model_after_minmaxscaling.compile(loss = 'sparse_categorical_crossentropy',\n",
    "             optimizer = 'adam',\n",
    "             metrics = ['accuracy'])\n",
    "model_after_minmaxscaling.fit(X_train, y_train, epochs=10)"
   ]
  },
  {
   "cell_type": "markdown",
   "id": "c308abb9",
   "metadata": {},
   "source": [
    "### Ways of reshape\n",
    "1. Flatten\n",
    "2. reshape"
   ]
  },
  {
   "cell_type": "code",
   "execution_count": 6,
   "id": "a0dc9f8a",
   "metadata": {},
   "outputs": [],
   "source": [
    "model1 = Sequential()\n",
    "model1.add(Flatten(input_shape=[28, 28]))\n",
    "model1.add(Dense(20, activation='relu'))\n",
    "model1.add(Dense(10, activation='softmax'))"
   ]
  },
  {
   "cell_type": "code",
   "execution_count": 7,
   "id": "16e539de",
   "metadata": {},
   "outputs": [],
   "source": [
    "model1.compile(loss = 'sparse_categorical_crossentropy',\n",
    "             optimizer = 'adam',\n",
    "             metrics = ['accuracy'])"
   ]
  },
  {
   "cell_type": "code",
   "execution_count": 10,
   "id": "3790b37a",
   "metadata": {},
   "outputs": [
    {
     "data": {
      "text/plain": [
       "(60000,)"
      ]
     },
     "execution_count": 10,
     "metadata": {},
     "output_type": "execute_result"
    }
   ],
   "source": [
    "y_train.shape"
   ]
  },
  {
   "cell_type": "code",
   "execution_count": 11,
   "id": "4048e67c",
   "metadata": {},
   "outputs": [
    {
     "name": "stdout",
     "output_type": "stream",
     "text": [
      "1875/1875 [==============================] - 2s 832us/step - loss: 0.5659 - accuracy: 0.8071\n"
     ]
    },
    {
     "data": {
      "text/plain": [
       "<keras.callbacks.History at 0x164e7c2e0>"
      ]
     },
     "execution_count": 11,
     "metadata": {},
     "output_type": "execute_result"
    }
   ],
   "source": [
    "model1.fit(X_train, y_train)"
   ]
  },
  {
   "cell_type": "code",
   "execution_count": null,
   "id": "fd77768c",
   "metadata": {},
   "outputs": [],
   "source": []
  },
  {
   "cell_type": "code",
   "execution_count": null,
   "id": "6b474c3d",
   "metadata": {},
   "outputs": [],
   "source": []
  },
  {
   "cell_type": "code",
   "execution_count": 12,
   "id": "2dac9b5a",
   "metadata": {},
   "outputs": [
    {
     "data": {
      "text/plain": [
       "(60000, 784)"
      ]
     },
     "execution_count": 12,
     "metadata": {},
     "output_type": "execute_result"
    }
   ],
   "source": [
    "# Reshape X_train from (60000, 28, 28) to (60000, 784)\n",
    "X_train = X_train.reshape(X_train.shape[0], X_train.shape[1] * X_train.shape[2])\n",
    "X_train.shape"
   ]
  },
  {
   "cell_type": "code",
   "execution_count": 13,
   "id": "717b4e15",
   "metadata": {},
   "outputs": [
    {
     "data": {
      "text/plain": [
       "(10000, 784)"
      ]
     },
     "execution_count": 13,
     "metadata": {},
     "output_type": "execute_result"
    }
   ],
   "source": [
    "# Reshape X_train from (10000, 28, 28) to (10000, 784)\n",
    "X_test = X_test.reshape(X_test.shape[0], X_test.shape[1] * X_test.shape[2])\n",
    "X_test.shape"
   ]
  },
  {
   "cell_type": "code",
   "execution_count": 14,
   "id": "fe7a8abd",
   "metadata": {},
   "outputs": [],
   "source": [
    "model2 = Sequential()\n",
    "model2.add(Dense(20, activation='relu', input_shape=(X_train.shape[1], )))\n",
    "model2.add(Dense(10, activation='softmax'))"
   ]
  },
  {
   "cell_type": "code",
   "execution_count": 15,
   "id": "e8a8ddb1",
   "metadata": {},
   "outputs": [],
   "source": [
    "model2.compile(loss = 'sparse_categorical_crossentropy',\n",
    "             optimizer = 'adam',\n",
    "             metrics = ['accuracy'])"
   ]
  },
  {
   "cell_type": "code",
   "execution_count": 16,
   "id": "73c8af11",
   "metadata": {},
   "outputs": [
    {
     "name": "stdout",
     "output_type": "stream",
     "text": [
      "1875/1875 [==============================] - 2s 813us/step - loss: 0.6026 - accuracy: 0.7969\n"
     ]
    },
    {
     "data": {
      "text/plain": [
       "<keras.callbacks.History at 0x16469db20>"
      ]
     },
     "execution_count": 16,
     "metadata": {},
     "output_type": "execute_result"
    }
   ],
   "source": [
    "model2.fit(X_train, y_train)"
   ]
  },
  {
   "cell_type": "code",
   "execution_count": null,
   "id": "3afe72ea",
   "metadata": {},
   "outputs": [],
   "source": []
  },
  {
   "cell_type": "markdown",
   "id": "a5dd9b3b",
   "metadata": {},
   "source": [
    "### Multiclass classification  sparse_categorical_crossentropy vs categorical_crossentropy\n",
    "We don't need to use to_catgorical in case of sparse_categorical_crossentropy"
   ]
  },
  {
   "cell_type": "code",
   "execution_count": 26,
   "id": "b57aedbc",
   "metadata": {},
   "outputs": [
    {
     "name": "stdout",
     "output_type": "stream",
     "text": [
      "1875/1875 [==============================] - 2s 908us/step - loss: 0.6074 - accuracy: 0.7904\n"
     ]
    },
    {
     "data": {
      "text/plain": [
       "<keras.callbacks.History at 0x165d27e50>"
      ]
     },
     "execution_count": 26,
     "metadata": {},
     "output_type": "execute_result"
    }
   ],
   "source": [
    "model3 = Sequential()\n",
    "model3.add(Dense(20, activation='relu', input_shape=(X_train.shape[1], )))\n",
    "model3.add(Dense(10, activation='softmax'))\n",
    "model3.compile(loss='sparse_categorical_crossentropy', optimizer='adam', metrics=['accuracy'])\n",
    "model3.fit(X_train, y_train)"
   ]
  },
  {
   "cell_type": "markdown",
   "id": "3189f612",
   "metadata": {},
   "source": [
    "In case, if we want to use categorical_crossentropy we need to one hot encode y, else we will get error\n",
    "\n",
    "ValueError: Shapes (32, 1) and (32, 10) are incompatible"
   ]
  },
  {
   "cell_type": "code",
   "execution_count": 27,
   "id": "86eab057",
   "metadata": {},
   "outputs": [
    {
     "ename": "ValueError",
     "evalue": "in user code:\n\n    File \"/usr/local/lib/python3.9/site-packages/keras/engine/training.py\", line 878, in train_function  *\n        return step_function(self, iterator)\n    File \"/usr/local/lib/python3.9/site-packages/keras/engine/training.py\", line 867, in step_function  **\n        outputs = model.distribute_strategy.run(run_step, args=(data,))\n    File \"/usr/local/lib/python3.9/site-packages/keras/engine/training.py\", line 860, in run_step  **\n        outputs = model.train_step(data)\n    File \"/usr/local/lib/python3.9/site-packages/keras/engine/training.py\", line 809, in train_step\n        loss = self.compiled_loss(\n    File \"/usr/local/lib/python3.9/site-packages/keras/engine/compile_utils.py\", line 201, in __call__\n        loss_value = loss_obj(y_t, y_p, sample_weight=sw)\n    File \"/usr/local/lib/python3.9/site-packages/keras/losses.py\", line 141, in __call__\n        losses = call_fn(y_true, y_pred)\n    File \"/usr/local/lib/python3.9/site-packages/keras/losses.py\", line 245, in call  **\n        return ag_fn(y_true, y_pred, **self._fn_kwargs)\n    File \"/usr/local/lib/python3.9/site-packages/keras/losses.py\", line 1664, in categorical_crossentropy\n        return backend.categorical_crossentropy(\n    File \"/usr/local/lib/python3.9/site-packages/keras/backend.py\", line 4994, in categorical_crossentropy\n        target.shape.assert_is_compatible_with(output.shape)\n\n    ValueError: Shapes (32, 1) and (32, 10) are incompatible\n",
     "output_type": "error",
     "traceback": [
      "\u001b[0;31m---------------------------------------------------------------------------\u001b[0m",
      "\u001b[0;31mValueError\u001b[0m                                Traceback (most recent call last)",
      "\u001b[0;32m/var/folders/zm/pvdw66f97v9cmg7tw8wq8jr40000gn/T/ipykernel_43659/1093506443.py\u001b[0m in \u001b[0;36m<module>\u001b[0;34m\u001b[0m\n\u001b[1;32m      3\u001b[0m \u001b[0mmodel4\u001b[0m\u001b[0;34m.\u001b[0m\u001b[0madd\u001b[0m\u001b[0;34m(\u001b[0m\u001b[0mDense\u001b[0m\u001b[0;34m(\u001b[0m\u001b[0;36m10\u001b[0m\u001b[0;34m,\u001b[0m \u001b[0mactivation\u001b[0m\u001b[0;34m=\u001b[0m\u001b[0;34m'softmax'\u001b[0m\u001b[0;34m)\u001b[0m\u001b[0;34m)\u001b[0m\u001b[0;34m\u001b[0m\u001b[0;34m\u001b[0m\u001b[0m\n\u001b[1;32m      4\u001b[0m \u001b[0mmodel4\u001b[0m\u001b[0;34m.\u001b[0m\u001b[0mcompile\u001b[0m\u001b[0;34m(\u001b[0m\u001b[0mloss\u001b[0m\u001b[0;34m=\u001b[0m\u001b[0;34m'categorical_crossentropy'\u001b[0m\u001b[0;34m,\u001b[0m \u001b[0moptimizer\u001b[0m\u001b[0;34m=\u001b[0m\u001b[0;34m'adam'\u001b[0m\u001b[0;34m,\u001b[0m \u001b[0mmetrics\u001b[0m\u001b[0;34m=\u001b[0m\u001b[0;34m[\u001b[0m\u001b[0;34m'accuracy'\u001b[0m\u001b[0;34m]\u001b[0m\u001b[0;34m)\u001b[0m\u001b[0;34m\u001b[0m\u001b[0;34m\u001b[0m\u001b[0m\n\u001b[0;32m----> 5\u001b[0;31m \u001b[0mmodel4\u001b[0m\u001b[0;34m.\u001b[0m\u001b[0mfit\u001b[0m\u001b[0;34m(\u001b[0m\u001b[0mX_train\u001b[0m\u001b[0;34m,\u001b[0m \u001b[0my_train\u001b[0m\u001b[0;34m)\u001b[0m\u001b[0;34m\u001b[0m\u001b[0;34m\u001b[0m\u001b[0m\n\u001b[0m",
      "\u001b[0;32m/usr/local/lib/python3.9/site-packages/keras/utils/traceback_utils.py\u001b[0m in \u001b[0;36merror_handler\u001b[0;34m(*args, **kwargs)\u001b[0m\n\u001b[1;32m     65\u001b[0m     \u001b[0;32mexcept\u001b[0m \u001b[0mException\u001b[0m \u001b[0;32mas\u001b[0m \u001b[0me\u001b[0m\u001b[0;34m:\u001b[0m  \u001b[0;31m# pylint: disable=broad-except\u001b[0m\u001b[0;34m\u001b[0m\u001b[0;34m\u001b[0m\u001b[0m\n\u001b[1;32m     66\u001b[0m       \u001b[0mfiltered_tb\u001b[0m \u001b[0;34m=\u001b[0m \u001b[0m_process_traceback_frames\u001b[0m\u001b[0;34m(\u001b[0m\u001b[0me\u001b[0m\u001b[0;34m.\u001b[0m\u001b[0m__traceback__\u001b[0m\u001b[0;34m)\u001b[0m\u001b[0;34m\u001b[0m\u001b[0;34m\u001b[0m\u001b[0m\n\u001b[0;32m---> 67\u001b[0;31m       \u001b[0;32mraise\u001b[0m \u001b[0me\u001b[0m\u001b[0;34m.\u001b[0m\u001b[0mwith_traceback\u001b[0m\u001b[0;34m(\u001b[0m\u001b[0mfiltered_tb\u001b[0m\u001b[0;34m)\u001b[0m \u001b[0;32mfrom\u001b[0m \u001b[0;32mNone\u001b[0m\u001b[0;34m\u001b[0m\u001b[0;34m\u001b[0m\u001b[0m\n\u001b[0m\u001b[1;32m     68\u001b[0m     \u001b[0;32mfinally\u001b[0m\u001b[0;34m:\u001b[0m\u001b[0;34m\u001b[0m\u001b[0;34m\u001b[0m\u001b[0m\n\u001b[1;32m     69\u001b[0m       \u001b[0;32mdel\u001b[0m \u001b[0mfiltered_tb\u001b[0m\u001b[0;34m\u001b[0m\u001b[0;34m\u001b[0m\u001b[0m\n",
      "\u001b[0;32m/usr/local/lib/python3.9/site-packages/tensorflow/python/framework/func_graph.py\u001b[0m in \u001b[0;36mautograph_handler\u001b[0;34m(*args, **kwargs)\u001b[0m\n\u001b[1;32m   1127\u001b[0m           \u001b[0;32mexcept\u001b[0m \u001b[0mException\u001b[0m \u001b[0;32mas\u001b[0m \u001b[0me\u001b[0m\u001b[0;34m:\u001b[0m  \u001b[0;31m# pylint:disable=broad-except\u001b[0m\u001b[0;34m\u001b[0m\u001b[0;34m\u001b[0m\u001b[0m\n\u001b[1;32m   1128\u001b[0m             \u001b[0;32mif\u001b[0m \u001b[0mhasattr\u001b[0m\u001b[0;34m(\u001b[0m\u001b[0me\u001b[0m\u001b[0;34m,\u001b[0m \u001b[0;34m\"ag_error_metadata\"\u001b[0m\u001b[0;34m)\u001b[0m\u001b[0;34m:\u001b[0m\u001b[0;34m\u001b[0m\u001b[0;34m\u001b[0m\u001b[0m\n\u001b[0;32m-> 1129\u001b[0;31m               \u001b[0;32mraise\u001b[0m \u001b[0me\u001b[0m\u001b[0;34m.\u001b[0m\u001b[0mag_error_metadata\u001b[0m\u001b[0;34m.\u001b[0m\u001b[0mto_exception\u001b[0m\u001b[0;34m(\u001b[0m\u001b[0me\u001b[0m\u001b[0;34m)\u001b[0m\u001b[0;34m\u001b[0m\u001b[0;34m\u001b[0m\u001b[0m\n\u001b[0m\u001b[1;32m   1130\u001b[0m             \u001b[0;32melse\u001b[0m\u001b[0;34m:\u001b[0m\u001b[0;34m\u001b[0m\u001b[0;34m\u001b[0m\u001b[0m\n\u001b[1;32m   1131\u001b[0m               \u001b[0;32mraise\u001b[0m\u001b[0;34m\u001b[0m\u001b[0;34m\u001b[0m\u001b[0m\n",
      "\u001b[0;31mValueError\u001b[0m: in user code:\n\n    File \"/usr/local/lib/python3.9/site-packages/keras/engine/training.py\", line 878, in train_function  *\n        return step_function(self, iterator)\n    File \"/usr/local/lib/python3.9/site-packages/keras/engine/training.py\", line 867, in step_function  **\n        outputs = model.distribute_strategy.run(run_step, args=(data,))\n    File \"/usr/local/lib/python3.9/site-packages/keras/engine/training.py\", line 860, in run_step  **\n        outputs = model.train_step(data)\n    File \"/usr/local/lib/python3.9/site-packages/keras/engine/training.py\", line 809, in train_step\n        loss = self.compiled_loss(\n    File \"/usr/local/lib/python3.9/site-packages/keras/engine/compile_utils.py\", line 201, in __call__\n        loss_value = loss_obj(y_t, y_p, sample_weight=sw)\n    File \"/usr/local/lib/python3.9/site-packages/keras/losses.py\", line 141, in __call__\n        losses = call_fn(y_true, y_pred)\n    File \"/usr/local/lib/python3.9/site-packages/keras/losses.py\", line 245, in call  **\n        return ag_fn(y_true, y_pred, **self._fn_kwargs)\n    File \"/usr/local/lib/python3.9/site-packages/keras/losses.py\", line 1664, in categorical_crossentropy\n        return backend.categorical_crossentropy(\n    File \"/usr/local/lib/python3.9/site-packages/keras/backend.py\", line 4994, in categorical_crossentropy\n        target.shape.assert_is_compatible_with(output.shape)\n\n    ValueError: Shapes (32, 1) and (32, 10) are incompatible\n"
     ]
    }
   ],
   "source": [
    "model4 = Sequential()\n",
    "model4.add(Dense(20, activation='relu', input_shape=(X_train.shape[1], )))\n",
    "model4.add(Dense(10, activation='softmax'))\n",
    "model4.compile(loss='categorical_crossentropy', optimizer='adam', metrics=['accuracy'])\n",
    "model4.fit(X_train, y_train)"
   ]
  },
  {
   "cell_type": "code",
   "execution_count": 28,
   "id": "f7b37eb7",
   "metadata": {},
   "outputs": [],
   "source": [
    "from tensorflow.keras.utils import to_categorical\n",
    "y_train_categorical = to_categorical(y_train)"
   ]
  },
  {
   "cell_type": "code",
   "execution_count": 29,
   "id": "2a93f108",
   "metadata": {},
   "outputs": [
    {
     "name": "stdout",
     "output_type": "stream",
     "text": [
      "1875/1875 [==============================] - 2s 850us/step - loss: 0.5878 - accuracy: 0.7992\n"
     ]
    },
    {
     "data": {
      "text/plain": [
       "<keras.callbacks.History at 0x16609cfd0>"
      ]
     },
     "execution_count": 29,
     "metadata": {},
     "output_type": "execute_result"
    }
   ],
   "source": [
    "model5 = Sequential()\n",
    "model5.add(Dense(20, activation='relu', input_shape=(X_train.shape[1], )))\n",
    "model5.add(Dense(10, activation='softmax'))\n",
    "model5.compile(loss='categorical_crossentropy', optimizer='adam', metrics=['accuracy'])\n",
    "model5.fit(X_train, y_train_categorical)"
   ]
  },
  {
   "cell_type": "code",
   "execution_count": null,
   "id": "42b1b9ed",
   "metadata": {},
   "outputs": [],
   "source": []
  },
  {
   "cell_type": "markdown",
   "id": "eb691161",
   "metadata": {},
   "source": [
    "### ReLU vs Sigmoid"
   ]
  },
  {
   "cell_type": "code",
   "execution_count": 31,
   "id": "01acf202",
   "metadata": {},
   "outputs": [
    {
     "name": "stdout",
     "output_type": "stream",
     "text": [
      "Epoch 1/10\n",
      "1875/1875 [==============================] - 2s 874us/step - loss: 0.5759 - accuracy: 0.8034\n",
      "Epoch 2/10\n",
      "1875/1875 [==============================] - 2s 865us/step - loss: 0.4315 - accuracy: 0.8510\n",
      "Epoch 3/10\n",
      "1875/1875 [==============================] - 2s 868us/step - loss: 0.4031 - accuracy: 0.8586\n",
      "Epoch 4/10\n",
      "1875/1875 [==============================] - 2s 845us/step - loss: 0.3858 - accuracy: 0.8641\n",
      "Epoch 5/10\n",
      "1875/1875 [==============================] - 2s 857us/step - loss: 0.3709 - accuracy: 0.8675\n",
      "Epoch 6/10\n",
      "1875/1875 [==============================] - 2s 878us/step - loss: 0.3583 - accuracy: 0.8723\n",
      "Epoch 7/10\n",
      "1875/1875 [==============================] - 2s 857us/step - loss: 0.3486 - accuracy: 0.8754\n",
      "Epoch 8/10\n",
      "1875/1875 [==============================] - 2s 892us/step - loss: 0.3392 - accuracy: 0.8783\n",
      "Epoch 9/10\n",
      "1875/1875 [==============================] - 2s 884us/step - loss: 0.3327 - accuracy: 0.8807\n",
      "Epoch 10/10\n",
      "1875/1875 [==============================] - 2s 856us/step - loss: 0.3243 - accuracy: 0.8835\n",
      "313/313 [==============================] - 0s 597us/step - loss: 0.3835 - accuracy: 0.8646\n"
     ]
    },
    {
     "data": {
      "text/plain": [
       "[0.3835026025772095, 0.8646000027656555]"
      ]
     },
     "execution_count": 31,
     "metadata": {},
     "output_type": "execute_result"
    }
   ],
   "source": [
    "# ReLU\n",
    "model5 = Sequential()\n",
    "model5.add(Dense(20, activation='relu', input_shape=(X_train.shape[1], )))\n",
    "model5.add(Dense(10, activation='softmax'))\n",
    "model5.compile(loss='categorical_crossentropy', optimizer='adam', metrics=['accuracy'])\n",
    "model5.fit(X_train, y_train_categorical, epochs=10)\n",
    "model5.evaluate(X_test, to_categorical(y_test))"
   ]
  },
  {
   "cell_type": "code",
   "execution_count": 33,
   "id": "dcc78b35",
   "metadata": {},
   "outputs": [
    {
     "name": "stdout",
     "output_type": "stream",
     "text": [
      "Epoch 1/10\n",
      "1875/1875 [==============================] - 2s 853us/step - loss: 0.7829 - accuracy: 0.7678\n",
      "Epoch 2/10\n",
      "1875/1875 [==============================] - 2s 851us/step - loss: 0.4597 - accuracy: 0.8418\n",
      "Epoch 3/10\n",
      "1875/1875 [==============================] - 2s 867us/step - loss: 0.4114 - accuracy: 0.8553\n",
      "Epoch 4/10\n",
      "1875/1875 [==============================] - 2s 853us/step - loss: 0.3859 - accuracy: 0.8627\n",
      "Epoch 5/10\n",
      "1875/1875 [==============================] - 2s 844us/step - loss: 0.3703 - accuracy: 0.8682\n",
      "Epoch 6/10\n",
      "1875/1875 [==============================] - 2s 831us/step - loss: 0.3588 - accuracy: 0.8721\n",
      "Epoch 7/10\n",
      "1875/1875 [==============================] - 2s 843us/step - loss: 0.3487 - accuracy: 0.8749\n",
      "Epoch 8/10\n",
      "1875/1875 [==============================] - 2s 979us/step - loss: 0.3417 - accuracy: 0.8780\n",
      "Epoch 9/10\n",
      "1875/1875 [==============================] - 2s 930us/step - loss: 0.3347 - accuracy: 0.8802\n",
      "Epoch 10/10\n",
      "1875/1875 [==============================] - 2s 882us/step - loss: 0.3291 - accuracy: 0.8818\n",
      "313/313 [==============================] - 0s 608us/step - loss: 0.3935 - accuracy: 0.8563\n"
     ]
    },
    {
     "data": {
      "text/plain": [
       "[0.3934575021266937, 0.8562999963760376]"
      ]
     },
     "execution_count": 33,
     "metadata": {},
     "output_type": "execute_result"
    }
   ],
   "source": [
    "# ReLU\n",
    "model6 = Sequential()\n",
    "model6.add(Dense(20, activation='sigmoid', input_shape=(X_train.shape[1], )))\n",
    "model6.add(Dense(10, activation='softmax'))\n",
    "model6.compile(loss='categorical_crossentropy', optimizer='adam', metrics=['accuracy'])\n",
    "model6.fit(X_train, y_train_categorical, epochs=10)\n",
    "model6.evaluate(X_test, to_categorical(y_test))"
   ]
  }
 ],
 "metadata": {
  "kernelspec": {
   "display_name": "Python 3 (ipykernel)",
   "language": "python",
   "name": "python3"
  },
  "language_info": {
   "codemirror_mode": {
    "name": "ipython",
    "version": 3
   },
   "file_extension": ".py",
   "mimetype": "text/x-python",
   "name": "python",
   "nbconvert_exporter": "python",
   "pygments_lexer": "ipython3",
   "version": "3.9.8"
  }
 },
 "nbformat": 4,
 "nbformat_minor": 5
}
